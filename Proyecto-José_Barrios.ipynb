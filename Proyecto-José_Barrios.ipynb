{
 "cells": [
  {
   "cell_type": "markdown",
   "metadata": {},
   "source": [
    "# Proyecto Introducción a la Ciencia de los Datos\n",
    "**José Barrios - 20007192**\n",
    "\n",
    "## Descripción general\n",
    "El proyecto consiste en aplicar los conocimientos aprendidos en clase (y apoyándose de referencias adicionales útiles) para crear modelos predictivos de regresión lineal uni-variable sencillos de la forma:\n",
    "> y = f(x) = mx +b\n",
    "\n",
    "Donde:\n",
    "<br>y = la variable dependiente\n",
    "<br>x = variable independiente\n",
    "<br>m = pendiente de la recta(parámetro del modelo)\n",
    "<br>b = intercepto(parámetro del modelo)\n",
    "\n",
    "Tanto “x” como “y” son parte del dataset usado , “m” y “b” son parámetros del modelo los cuales buscamos estimar con los datos, esto significa que se busca encontrar que valores de “m” y “b” producen una recta que describa de la mejor manera posible la relación entre los datos \"x\" y \"y\".\n",
    "\n",
    "### Pasos solicitados\n",
    "Los datos se encuentran dados en el formato binario de NumPy .npy por lo tanto usaremos la función “load” de numpy para poderlos utilizar:\n",
    "https://docs.scipy.org/doc/numpy/reference/generated/numpy.load.html\n",
    "\n",
    "Instalar Numpy, Pandas, Seaborn para el notebook"
   ]
  },
  {
   "cell_type": "code",
   "execution_count": 21,
   "metadata": {},
   "outputs": [],
   "source": [
    "import numpy as np\n",
    "import seaborn as sns\n",
    "import pandas as pd"
   ]
  },
  {
   "cell_type": "code",
   "execution_count": 2,
   "metadata": {},
   "outputs": [],
   "source": [
    "data = np.load('proyecto_training_data.npy')"
   ]
  },
  {
   "cell_type": "code",
   "execution_count": 29,
   "metadata": {},
   "outputs": [
    {
     "data": {
      "text/plain": [
       "array([[1.560e+05, 6.000e+00, 1.026e+03, 5.000e+00, 1.969e+03, 6.100e+01],\n",
       "       [2.450e+05, 8.000e+00, 1.563e+03, 6.000e+00, 2.007e+03, 7.800e+01],\n",
       "       [8.800e+04, 6.000e+00, 5.250e+02, 6.000e+00, 1.971e+03, 2.100e+01],\n",
       "       ...,\n",
       "       [3.930e+04, 1.000e+00, 3.340e+02, 2.000e+00, 1.946e+03, 5.000e+01],\n",
       "       [1.299e+05, 5.000e+00, 8.640e+02, 5.000e+00, 1.958e+03, 7.000e+01],\n",
       "       [2.260e+05, 7.000e+00, 1.057e+03, 7.000e+00, 2.001e+03,       nan]])"
      ]
     },
     "execution_count": 29,
     "metadata": {},
     "output_type": "execute_result"
    }
   ],
   "source": [
    "#'Revolvemos' la data para minimizar algún tipo de sesgo\n",
    "#Esto reordena las filas, pero los valores en cada columna siguen siendo los mismos\n",
    "np.random.shuffle(data)\n",
    "data"
   ]
  },
  {
   "cell_type": "markdown",
   "metadata": {},
   "source": [
    "Procedemos a dividir la data en dos secciones: una para entrenamiento y otra para verificación del modelo.\n",
    "\n",
    "Así que se procede a determinar cuántas filas tiene la data y así separar el 80% de ella para entrenamiento."
   ]
  },
  {
   "cell_type": "code",
   "execution_count": 30,
   "metadata": {},
   "outputs": [
    {
     "name": "stdout",
     "output_type": "stream",
     "text": [
      "Forma o tamaño:  (1460, 6)\n",
      "Filas para entrenamiento:  1168\n"
     ]
    }
   ],
   "source": [
    "filas_entrenamiento = int(len(data) * 0.8)\n",
    "\n",
    "print(\"Forma o tamaño: \", data.shape)\n",
    "print(\"Filas para entrenamiento: \", filas_entrenamiento)"
   ]
  },
  {
   "cell_type": "code",
   "execution_count": 31,
   "metadata": {},
   "outputs": [
    {
     "name": "stdout",
     "output_type": "stream",
     "text": [
      "Forma o tamaño de data de entrenamiento:  (1168, 6)\n"
     ]
    }
   ],
   "source": [
    "data_entrenamiento = data[:filas_entrenamiento]\n",
    "\n",
    "print(\"Forma o tamaño de data de entrenamiento: \", data_entrenamiento.shape)"
   ]
  },
  {
   "cell_type": "markdown",
   "metadata": {},
   "source": [
    "## Análisis exploratorio\n",
    "Usando numpy, calcular los siguientes valores de cada variable de la data.\n",
    "* Media\n",
    "* Valor máximo\n",
    "* Valor mínimo\n",
    "* Rango\n",
    "* Desviación estándar"
   ]
  },
  {
   "cell_type": "code",
   "execution_count": 32,
   "metadata": {},
   "outputs": [
    {
     "name": "stdout",
     "output_type": "stream",
     "text": [
      "Madia:  [1.82531962e+05 6.11130137e+00 1.16568579e+03 6.53767123e+00\n",
      " 1.97165839e+03 6.99770594e+01]\n",
      "Máximo:  [7.550e+05 1.000e+01 3.228e+03 1.200e+01 2.010e+03 1.820e+02]\n",
      "Mínimo:  [3.490e+04 1.000e+00 3.720e+02 3.000e+00 1.872e+03 2.100e+01]\n",
      "Rango:  [7.201e+05 9.000e+00 2.856e+03 9.000e+00 1.380e+02       nan]\n",
      "Desviación estándar:  [8.06278187e+04 1.37912855e+00 3.82951982e+02 1.59471045e+00\n",
      " 3.01603122e+01 2.21939384e+01]\n"
     ]
    }
   ],
   "source": [
    "print('Madia: ', np.nanmean(data_entrenamiento, axis=0))\n",
    "print('Máximo: ', np.nanmax(data_entrenamiento, axis=0))\n",
    "print('Mínimo: ', np.nanmin(data_entrenamiento, axis=0))\n",
    "print('Rango: ', np.ptp(data_entrenamiento, axis=0))\n",
    "print('Desviación estándar: ', np.nanstd(data_entrenamiento, axis=0))"
   ]
  },
  {
   "cell_type": "markdown",
   "metadata": {},
   "source": [
    "Para cada variable en el dataset usar seaborn (función distplot https://seaborn.pydata.org/generated/seaborn.distplot.html) para graficar un histograma de la variable."
   ]
  },
  {
   "cell_type": "code",
   "execution_count": 27,
   "metadata": {},
   "outputs": [
    {
     "data": {
      "text/plain": [
       "array([[0.25554659, 0.10918154],\n",
       "       [0.53166174, 0.99599467],\n",
       "       [0.98527497, 0.71739491],\n",
       "       [0.29706317, 0.3585277 ],\n",
       "       [0.20554437, 0.22902848],\n",
       "       [0.54641557, 0.31639087]])"
      ]
     },
     "execution_count": 27,
     "metadata": {},
     "output_type": "execute_result"
    }
   ],
   "source": []
  },
  {
   "cell_type": "code",
   "execution_count": 28,
   "metadata": {},
   "outputs": [
    {
     "data": {
      "text/plain": [
       "array([[0.29706317, 0.3585277 ],\n",
       "       [0.20554437, 0.22902848],\n",
       "       [0.54641557, 0.31639087],\n",
       "       [0.98527497, 0.71739491],\n",
       "       [0.25554659, 0.10918154],\n",
       "       [0.53166174, 0.99599467]])"
      ]
     },
     "execution_count": 28,
     "metadata": {},
     "output_type": "execute_result"
    }
   ],
   "source": []
  }
 ],
 "metadata": {
  "kernelspec": {
   "display_name": "Python 3",
   "language": "python",
   "name": "python3"
  },
  "language_info": {
   "codemirror_mode": {
    "name": "ipython",
    "version": 3
   },
   "file_extension": ".py",
   "mimetype": "text/x-python",
   "name": "python",
   "nbconvert_exporter": "python",
   "pygments_lexer": "ipython3",
   "version": "3.7.6"
  }
 },
 "nbformat": 4,
 "nbformat_minor": 4
}
